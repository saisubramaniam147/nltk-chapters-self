{
 "cells": [
  {
   "cell_type": "markdown",
   "metadata": {},
   "source": [
    "## Reference: http://www.nltk.org/book/ch01.html"
   ]
  },
  {
   "cell_type": "code",
   "execution_count": 3,
   "metadata": {},
   "outputs": [],
   "source": [
    "# Importing NLTK\n",
    "import nltk"
   ]
  },
  {
   "cell_type": "code",
   "execution_count": 92,
   "metadata": {},
   "outputs": [
    {
     "name": "stdout",
     "output_type": "stream",
     "text": [
      "[nltk_data] Downloading package stopwords to /home/sai/nltk_data...\n",
      "[nltk_data]   Unzipping corpora/stopwords.zip.\n"
     ]
    },
    {
     "data": {
      "text/plain": [
       "True"
      ]
     },
     "execution_count": 92,
     "metadata": {},
     "output_type": "execute_result"
    }
   ],
   "source": [
    "# To download any external dataset\n",
    "nltk.download('stopwords')"
   ]
  },
  {
   "cell_type": "code",
   "execution_count": 5,
   "metadata": {},
   "outputs": [
    {
     "name": "stdout",
     "output_type": "stream",
     "text": [
      "*** Introductory Examples for the NLTK Book ***\n",
      "Loading text1, ..., text9 and sent1, ..., sent9\n",
      "Type the name of the text or sentence to view it.\n",
      "Type: 'texts()' or 'sents()' to list the materials.\n",
      "text1: Moby Dick by Herman Melville 1851\n",
      "text2: Sense and Sensibility by Jane Austen 1811\n",
      "text3: The Book of Genesis\n",
      "text4: Inaugural Address Corpus\n",
      "text5: Chat Corpus\n",
      "text6: Monty Python and the Holy Grail\n",
      "text7: Wall Street Journal\n",
      "text8: Personals Corpus\n",
      "text9: The Man Who Was Thursday by G . K . Chesterton 1908\n"
     ]
    }
   ],
   "source": [
    "# Imports all dataset from built in book folder\n",
    "from nltk.book import *"
   ]
  },
  {
   "cell_type": "code",
   "execution_count": 6,
   "metadata": {},
   "outputs": [
    {
     "data": {
      "text/plain": [
       "<Text: Moby Dick by Herman Melville 1851>"
      ]
     },
     "execution_count": 6,
     "metadata": {},
     "output_type": "execute_result"
    }
   ],
   "source": [
    "# Print object text1\n",
    "text1"
   ]
  },
  {
   "cell_type": "code",
   "execution_count": 7,
   "metadata": {},
   "outputs": [
    {
     "name": "stdout",
     "output_type": "stream",
     "text": [
      "Displaying 25 of 84 matches:\n",
      "                                     Moby Dick by Herman Melville 1851 ] ETYMO\n",
      "hale must be the same that some call Moby Dick .\" \" Moby Dick ?\" shouted Ahab \n",
      "e same that some call Moby Dick .\" \" Moby Dick ?\" shouted Ahab . \" Do ye know \n",
      "all . Death and devils ! men , it is Moby Dick ye have seen -- Moby Dick -- Mo\n",
      "en , it is Moby Dick ye have seen -- Moby Dick -- Moby Dick !\" \" Captain Ahab \n",
      "by Dick ye have seen -- Moby Dick -- Moby Dick !\" \" Captain Ahab ,\" said Starb\n",
      "r . \" Captain Ahab , I have heard of Moby Dick -- but it was not Moby Dick tha\n",
      "heard of Moby Dick -- but it was not Moby Dick that took off thy leg ?\" \" Who \n",
      "aye , my hearties all round ; it was Moby Dick that dismasted me ; Moby Dick t\n",
      "it was Moby Dick that dismasted me ; Moby Dick that brought me to this dead st\n",
      " the white whale ; a sharp lance for Moby Dick !\" \" God bless ye ,\" he seemed \n",
      "e the white whale ? art not game for Moby Dick ?\" \" I am game for his crooked \n",
      "athful whaleboat ' s bow -- Death to Moby Dick ! God hunt us all , if we do no\n",
      " God hunt us all , if we do not hunt Moby Dick to his death !\" The long , barb\n",
      " no bowels to feel fear ! CHAPTER 41 Moby Dick . I , Ishmael , was one of that\n",
      "l individualizing tidings concerning Moby Dick . It was hardly to be doubted ,\n",
      "uestion must have been no other than Moby Dick . Yet as of late the Sperm Whal\n",
      "y accident ignorantly gave battle to Moby Dick ; such hunters , perhaps , for \n",
      "lating and piling their terrors upon Moby Dick ; those things had gone far to \n",
      "agencies , which eventually invested Moby Dick with new terrors unborrowed fro\n",
      "fishermen recalled , in reference to Moby Dick , the earlier days of the Sperm\n",
      "e things were ready to give chase to Moby Dick ; and a still greater number wh\n",
      "ned , was the unearthly conceit that Moby Dick was ubiquitous ; that he had ac\n",
      "r in their superstitions ; declaring Moby Dick not only ubiquitous , but immor\n",
      "kle - shaped lower jaw beneath him , Moby Dick had reaped away Ahab ' s leg , \n"
     ]
    }
   ],
   "source": [
    "# Display all matches of a word in the same context with underlying sentence.\n",
    "# Does not seem to provide matches for any word other than unigram.\n",
    "text1.concordance(\"Moby\")"
   ]
  },
  {
   "cell_type": "code",
   "execution_count": 8,
   "metadata": {},
   "outputs": [
    {
     "name": "stdout",
     "output_type": "stream",
     "text": [
      "Text1 similar words\n",
      "<Text: Moby Dick by Herman Melville 1851>\n",
      "modifies imperial part mean puzzled loving christian mouldy reliable\n",
      "lamentable lazy determined abundant curious doleful few gamesome\n",
      "mystifying subtly passing\n",
      "\n",
      "Text2 similar words\n",
      "<Text: Sense and Sensibility by Jane Austen 1811>\n",
      "very exceedingly heartily so as a good great extremely sweet\n",
      "remarkably amazingly vast\n",
      "None\n"
     ]
    }
   ],
   "source": [
    "# Finding similar words based on the context\n",
    "# similar() calculates the sum of the contexts shared between the input word and every other word and ranks in desc.\n",
    "# i.e. freq = sum(words 'a' and 'b' occur together in the same context)\n",
    "print(\"Text1 similar words\")\n",
    "print(text1)\n",
    "text1.similar(\"monstrous\")\n",
    "print(\"\\nText2 similar words\")\n",
    "print(text2)\n",
    "print(text2.similar(\"monstrous\"))"
   ]
  },
  {
   "cell_type": "code",
   "execution_count": 9,
   "metadata": {},
   "outputs": [
    {
     "name": "stdout",
     "output_type": "stream",
     "text": [
      "Text1 similar words\n",
      "<Text: Moby Dick by Herman Melville 1851>\n",
      "['few', 'true', 'modifies', 'abundant', 'part', 'mean', 'loving', 'christian', 'gamesome', 'lamentable', 'lazy', 'determined', 'imperial', 'curious', 'perilous', 'reliable', 'mystifying', 'subtly', 'vexatious', 'exasperate']\n",
      "\n",
      "Text2 similar words\n",
      "<Text: Sense and Sensibility by Jane Austen 1811>\n",
      "['great', 'so', 'very', 'heartily', 'amazingly', 'good', 'extremely', 'vast', 'exceedingly', 'a', 'sweet', 'as', 'remarkably']\n"
     ]
    }
   ],
   "source": [
    "# Finding similar words based on the context\n",
    "# similar_words calculates the sum of products of the frequencies of adjacent words in the same context.\n",
    "# i.e. freq = sum(AaB * AbB), where the adjacent words 'A' and 'B' are same.\n",
    "print(\"Text1 similar words\")\n",
    "print(text1)\n",
    "print(text1._word_context_index.similar_words(\"monstrous\"))\n",
    "print(\"\\nText2 similar words\")\n",
    "print(text2)\n",
    "print(text2._word_context_index.similar_words(\"monstrous\"))"
   ]
  },
  {
   "cell_type": "markdown",
   "metadata": {},
   "source": [
    "### Reference: https://stackoverflow.com/questions/14287993/words-generated-from-text-similar-and-contextindex-similar-words-in-nltk-sor "
   ]
  },
  {
   "cell_type": "code",
   "execution_count": 11,
   "metadata": {},
   "outputs": [
    {
     "name": "stdout",
     "output_type": "stream",
     "text": [
      "a_pretty\n"
     ]
    }
   ],
   "source": [
    "# Display common contexts that are shared by two or more words\n",
    "text2.common_contexts([\"monstrous\",\"remarkably\"])"
   ]
  },
  {
   "cell_type": "code",
   "execution_count": 13,
   "metadata": {},
   "outputs": [
    {
     "data": {
      "image/png": "[encoded data removed]",
      "text/plain": [
       "<matplotlib.figure.Figure at 0x7f0ab1354780>"
      ]
     },
     "metadata": {},
     "output_type": "display_data"
    },
    {
     "name": "stdout",
     "output_type": "stream",
     "text": [
      "None\n"
     ]
    }
   ],
   "source": [
    "# Dispersion plot\n",
    "# case sensitive\n",
    "# Moby and Dick appear together\n",
    "# whale and ship frequently occuring\n",
    "print(text1.dispersion_plot([\"Moby\", \"moby\", \"Dick\", \"whale\",\"monster\", \"America\", \"ship\"]))"
   ]
  },
  {
   "cell_type": "code",
   "execution_count": 14,
   "metadata": {},
   "outputs": [
    {
     "name": "stdout",
     "output_type": "stream",
     "text": [
      "None\n"
     ]
    }
   ],
   "source": [
    "# The generate() method is not available in NLTK 3.0 but will be reinstated in a subsequent version.\n",
    "print(text1.generate(\"whale\"))"
   ]
  },
  {
   "cell_type": "code",
   "execution_count": 16,
   "metadata": {},
   "outputs": [
    {
     "name": "stdout",
     "output_type": "stream",
     "text": [
      "0.06230453042623537\n"
     ]
    }
   ],
   "source": [
    "# Lexical richness\n",
    "# Measure of distinct words from the total number of words\n",
    "print(len(set(text3))/len(text3))"
   ]
  },
  {
   "cell_type": "code",
   "execution_count": 35,
   "metadata": {},
   "outputs": [
    {
     "name": "stdout",
     "output_type": "stream",
     "text": [
      "<Text: Chat Corpus>\n",
      "704\n"
     ]
    }
   ],
   "source": [
    "# Frequency of a word used\n",
    "print(text5)\n",
    "print(text5.count(\"lol\"))"
   ]
  },
  {
   "cell_type": "code",
   "execution_count": 128,
   "metadata": {},
   "outputs": [
    {
     "name": "stdout",
     "output_type": "stream",
     "text": [
      "[(',', 18713), ('the', 13721), ('.', 6862), ('of', 6536), ('and', 6024), ('a', 4569), ('to', 4542), (';', 4072), ('in', 3916), ('that', 2982)]\n",
      "84\n"
     ]
    },
    {
     "data": {
      "image/png": "[encoded data removed]",
      "text/plain": [
       "<matplotlib.figure.Figure at 0x7f0ab1297f28>"
      ]
     },
     "metadata": {},
     "output_type": "display_data"
    },
    {
     "name": "stdout",
     "output_type": "stream",
     "text": [
      "None\n",
      "['consign', 'reserving', 'Gifted', 'silenced', 'monied', 'bullets', 'BRACTON', 'roofs', 'prowling', 'PLINY', 'superiors', 'LENGTHWISE', 'masted', 'unpoetical', 'diaboli', 'preciousness', 'MCCULLOCH', 'profiles', 'usurper', 'Hydrus']\n"
     ]
    }
   ],
   "source": [
    "# Frequency distribution\n",
    "freq1 = FreqDist(text1)\n",
    "print(freq1.most_common(10))\n",
    "print(freq1['Moby'])\n",
    "print(freq1.plot(10, cumulative=True))\n",
    "print(freq1.hapaxes()[:20])"
   ]
  },
  {
   "cell_type": "code",
   "execution_count": 80,
   "metadata": {},
   "outputs": [
    {
     "name": "stdout",
     "output_type": "stream",
     "text": [
      "['CIRCUMNAVIGATION', 'Physiognomically', 'apprehensiveness', 'cannibalistically', 'characteristically', 'circumnavigating', 'circumnavigation', 'circumnavigations', 'comprehensiveness', 'hermaphroditical', 'indiscriminately', 'indispensableness', 'irresistibleness', 'physiognomically', 'preternaturalness', 'responsibilities', 'simultaneousness', 'subterraneousness', 'supernaturalness', 'superstitiousness', 'uncomfortableness', 'uncompromisedness', 'undiscriminating', 'uninterpenetratingly']\n"
     ]
    }
   ],
   "source": [
    "# find words whose length greater than 15 words\n",
    "words_set = set(text1)\n",
    "long_words = [word for word in words_set if len(word) > 15]\n",
    "print(sorted(long_words))"
   ]
  },
  {
   "cell_type": "code",
   "execution_count": 90,
   "metadata": {},
   "outputs": [
    {
     "name": "stdout",
     "output_type": "stream",
     "text": [
      "[('apprehensiveness', 4), ('circumnavigating', 2), ('circumnavigation', 2), ('comprehensiveness', 3), ('indiscriminately', 3), ('physiognomically', 2), ('simultaneousness', 2), ('superstitiousness', 2)]\n"
     ]
    }
   ],
   "source": [
    "# find words whose length > 15 and freq > 1\n",
    "print(sorted((word, freq1[word]) for word in set(text1) if len(word) > 15 and freq1[word] > 1))"
   ]
  },
  {
   "cell_type": "code",
   "execution_count": 93,
   "metadata": {
    "scrolled": true
   },
   "outputs": [
    {
     "name": "stdout",
     "output_type": "stream",
     "text": [
      "United States; fellow citizens; four years; years ago; Federal\n",
      "Government; General Government; American people; Vice President; Old\n",
      "World; Almighty God; Fellow citizens; Chief Magistrate; Chief Justice;\n",
      "God bless; every citizen; Indian tribes; public debt; one another;\n",
      "foreign nations; political parties\n"
     ]
    }
   ],
   "source": [
    "# Collocations\n",
    "# Finding frequent sequences of words that occur together\n",
    "text4.collocations()"
   ]
  },
  {
   "cell_type": "markdown",
   "metadata": {},
   "source": [
    "### Reference: http://www.nltk.org/howto/collocations.html "
   ]
  },
  {
   "cell_type": "code",
   "execution_count": 107,
   "metadata": {},
   "outputs": [
    {
     "data": {
      "image/png": "[encoded data removed]",
      "text/plain": [
       "<matplotlib.figure.Figure at 0x7f0aab4cae10>"
      ]
     },
     "metadata": {},
     "output_type": "display_data"
    }
   ],
   "source": [
    "# Frequency of word length - plot\n",
    "freq_wordlength = FreqDist(len(word) for word in text1)\n",
    "freq_wordlength.plot(20, cumulative=False)"
   ]
  },
  {
   "cell_type": "code",
   "execution_count": 121,
   "metadata": {
    "scrolled": true
   },
   "outputs": [
    {
     "name": "stdout",
     "output_type": "stream",
     "text": [
      "    3     1     4     2     5     6     7     8     9    10    11    12    13    14    15    16    17    18    20 \n",
      "50223 47933 42345 38513 26597 17111 14399  9966  6428  3528  1873  1053   567   177    70    22    12     1     1 \n"
     ]
    }
   ],
   "source": [
    "freq_wordlength.tabulate()"
   ]
  }
 ],
 "metadata": {
  "kernelspec": {
   "display_name": "Python 3",
   "language": "python",
   "name": "python3"
  },
  "language_info": {
   "codemirror_mode": {
    "name": "ipython",
    "version": 3
   },
   "file_extension": ".py",
   "mimetype": "text/x-python",
   "name": "python",
   "nbconvert_exporter": "python",
   "pygments_lexer": "ipython3",
   "version": "3.5.2"
  }
 },
 "nbformat": 4,
 "nbformat_minor": 2
}
